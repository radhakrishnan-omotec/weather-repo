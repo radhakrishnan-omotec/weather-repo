{
  "nbformat": 4,
  "nbformat_minor": 0,
  "metadata": {
    "colab": {
      "provenance": [],
      "authorship_tag": "ABX9TyP0bcj5ALYj5QB8whfms0Ga",
      "include_colab_link": true
    },
    "kernelspec": {
      "name": "python3",
      "display_name": "Python 3"
    },
    "language_info": {
      "name": "python"
    }
  },
  "cells": [
    {
      "cell_type": "markdown",
      "metadata": {
        "id": "view-in-github",
        "colab_type": "text"
      },
      "source": [
        "<a href=\"https://colab.research.google.com/github/radhakrishnan-omotec/weather-repo/blob/main/Weather_Project_1.ipynb\" target=\"_parent\"><img src=\"https://colab.research.google.com/assets/colab-badge.svg\" alt=\"Open In Colab\"/></a>"
      ]
    },
    {
      "cell_type": "code",
      "execution_count": null,
      "metadata": {
        "id": "eWI-QDiV6qAT"
      },
      "outputs": [],
      "source": []
    },
    {
      "cell_type": "markdown",
      "source": [
        "#PROJECT NAME :\n",
        "\n",
        "### Project Description\n",
        "\n",
        "## AUTHOR NAME :"
      ],
      "metadata": {
        "id": "skcgg_af6uJL"
      }
    },
    {
      "cell_type": "code",
      "source": [],
      "metadata": {
        "id": "aSLAZWD1612D"
      },
      "execution_count": null,
      "outputs": []
    },
    {
      "cell_type": "code",
      "source": [
        "###"
      ],
      "metadata": {
        "id": "vTbb5pGY60zl"
      },
      "execution_count": null,
      "outputs": []
    }
  ]
}